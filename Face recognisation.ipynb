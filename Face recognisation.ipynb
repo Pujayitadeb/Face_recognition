{
 "cells": [
  {
   "cell_type": "code",
   "execution_count": null,
   "id": "2afb811e",
   "metadata": {},
   "outputs": [],
   "source": [
    "import cv2\n",
    "import numpy as np\n",
    "import face_recognition"
   ]
  },
  {
   "cell_type": "code",
   "execution_count": null,
   "id": "a9a81c5d",
   "metadata": {},
   "outputs": [],
   "source": [
    "import face_recognition\n",
    "import cv2\n",
    "\n",
    "# Load the first image\n",
    "img = face_recognition.load_image_file(r\"C:\\Users\\pujay\\OneDrive\\Desktop\\vgg anatator\\thermal2\\1st.jpg\")\n",
    "img = cv2.cvtColor(img, cv2.COLOR_BGR2RGB)  # Convert to RGB format\n",
    "\n",
    "# Load the second image\n",
    "imgT = face_recognition.load_image_file(r\"C:\\Users\\pujay\\OneDrive\\Desktop\\vgg anatator\\thermal2\\2nd.jpg\")\n",
    "imgT = cv2.cvtColor(imgT, cv2.COLOR_BGR2RGB)  # Convert to RGB format\n",
    "\n",
    "# Find face locations and encodings in the first image\n",
    "faceLoc = face_recognition.face_locations(img)[0]\n",
    "encode = face_recognition.face_encodings(img)[0]\n",
    "cv2.rectangle(img, (faceLoc[3], faceLoc[0]), (faceLoc[1], faceLoc[2]), (255, 0, 255), 2)\n",
    "\n",
    "# Find face locations and encodings in the second image\n",
    "faceLocT = face_recognition.face_locations(imgT)[0]\n",
    "encodeT = face_recognition.face_encodings(imgT)[0]\n",
    "cv2.rectangle(imgT, (faceLocT[3], faceLocT[0]), (faceLocT[1], faceLocT[2]), (255, 0, 255), 2)\n",
    "\n",
    "# Compare the faces\n",
    "results = face_recognition.compare_faces([encode], encodeT)\n",
    "faceDis = face_recognition.face_distance([encode], encodeT)\n",
    "\n",
    "# Print the results\n",
    "print(\"Are the faces the same?\", results[0])\n",
    "print(\"Face distance:\", faceDis[0])\n",
    "\n",
    "# Display the results on the images\n",
    "cv2.putText(img, f\"Match: {results[0]}\", (50, 50), cv2.FONT_HERSHEY_COMPLEX, 1, (255, 0, 0), 2)\n",
    "cv2.putText(img, f\"Distance: {round(faceDis[0], 2)}\", (50, 100), cv2.FONT_HERSHEY_COMPLEX, 1, (255, 0, 0), 2)\n",
    "\n",
    "# Display the images\n",
    "cv2.imshow('Image 1', img)\n",
    "cv2.imshow('Image 2', imgT)\n",
    "cv2.waitKey(0)\n",
    "cv2.destroyAllWindows()\n",
    "\n",
    "\n",
    "\n"
   ]
  },
  {
   "cell_type": "code",
   "execution_count": null,
   "id": "83411e45",
   "metadata": {},
   "outputs": [],
   "source": []
  },
  {
   "cell_type": "code",
   "execution_count": null,
   "id": "e5f44ab5",
   "metadata": {},
   "outputs": [],
   "source": []
  }
 ],
 "metadata": {
  "kernelspec": {
   "display_name": "Python 3 (ipykernel)",
   "language": "python",
   "name": "python3"
  },
  "language_info": {
   "codemirror_mode": {
    "name": "ipython",
    "version": 3
   },
   "file_extension": ".py",
   "mimetype": "text/x-python",
   "name": "python",
   "nbconvert_exporter": "python",
   "pygments_lexer": "ipython3",
   "version": "3.10.9"
  }
 },
 "nbformat": 4,
 "nbformat_minor": 5
}
